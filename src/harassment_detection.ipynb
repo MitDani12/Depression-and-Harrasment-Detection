{
 "cells": [
  {
   "cell_type": "markdown",
   "metadata": {},
   "source": [
    "#### Importing libararies"
   ]
  },
  {
   "cell_type": "code",
   "execution_count": null,
   "metadata": {},
   "outputs": [],
   "source": [
    "import re\n",
    "import nltk\n",
    "import string\n",
    "import numpy as np\n",
    "import pandas as pd\n",
    "import seaborn as sns\n",
    "from nltk.corpus import stopwords\n",
    "from keras.models import Sequential\n",
    "from matplotlib import pyplot as plt\n",
    "from sklearn.metrics import accuracy_score\n",
    "from keras.layers.embeddings import Embedding\n",
    "from keras.preprocessing.text import Tokenizer\n",
    "from sklearn.model_selection import train_test_split\n",
    "from keras.preprocessing.sequence import pad_sequences\n",
    "from keras.layers import Dense, LSTM, Dropout, Activation, SpatialDropout1D\n",
    "from keras.callbacks import ModelCheckpoint, EarlyStopping\n",
    "from sklearn.metrics import accuracy_score\n",
    "%matplotlib inline"
   ]
  },
  {
   "cell_type": "markdown",
   "metadata": {},
   "source": [
    "#### Data merging"
   ]
  },
  {
   "cell_type": "code",
   "execution_count": null,
   "metadata": {},
   "outputs": [],
   "source": [
    "# Reading dataset\n",
    "sentiment_dev_df = pd.read_csv('../dataset/sentiment_dev.csv', encoding ='latin-1', names = [1, 2, 3, 4, 5, 6])\n",
    "\n",
    "# Selecting only text and labeled class columns\n",
    "sentiment_dev_df = sentiment_dev_df.iloc[:, [5, 0]]\n",
    "sentiment_dev_df.columns = ['Message', 'Label']\n",
    "sentiment_dev_df['Label'] = 0\n",
    "\n",
    "# Drop duplicates\n",
    "sentiment_dev_df = sentiment_dev_df.drop_duplicates(subset = 'Message', keep = 'first')\n",
    "sentiment_dev_df.reset_index(inplace = True, drop = True) \n",
    "\n",
    "# Sampling\n",
    "sentiment_dev_df = sentiment_dev_df.sample(frac = 1, random_state = 400)\n",
    "sentiment_dev_df.reset_index(inplace = True, drop = True) \n",
    "sentiment_dev_df = sentiment_dev_df.sample(frac = 0.025 * 3, random_state = 200)\n",
    "sentiment_dev_df.reset_index(inplace = True, drop = True) \n",
    "\n",
    "sentiment_dev_df.shape"
   ]
  },
  {
   "cell_type": "code",
   "execution_count": null,
   "metadata": {},
   "outputs": [],
   "source": [
    "# Reading dataset\n",
    "toxic_df = pd.read_csv('../dataset/train.csv')\n",
    "\n",
    "# Selecting only text and labeled class columns which relate to harassment\n",
    "toxic_df = toxic_df[(toxic_df['toxic'] == 0) & (toxic_df['severe_toxic'] == 0) | (toxic_df['threat'] == 1) | (toxic_df['insult'] == 1)  | (toxic_df['identity_hate'] == 1)]\n",
    "toxic_df['Label'] = 1\n",
    "toxic_df = toxic_df[['comment_text', 'Label']]\n",
    "toxic_df.columns = ['Message', 'Label']\n",
    "\n",
    "# Drop duplicates\n",
    "toxic_df = toxic_df.drop_duplicates(subset = 'Message', keep = 'first')\n",
    "toxic_df.reset_index(inplace = True, drop = True) \n",
    "\n",
    "# Sampling\n",
    "toxic_df = toxic_df.sample(frac = 0.07 * 3, random_state = 200)\n",
    "toxic_df.reset_index(inplace = True, drop = True) \n",
    "\n",
    "\n",
    "toxic_df.shape"
   ]
  },
  {
   "cell_type": "code",
   "execution_count": null,
   "metadata": {},
   "outputs": [],
   "source": [
    "# Reading and merging dataset\n",
    "harassment_tweets_df1 = pd.read_csv('../dataset/harassment-tweet.csv')\n",
    "harassment_tweets_df2 = pd.read_csv('../dataset/harassment-tweet2.csv')\n",
    "harassment_tweets_df = harassment_tweets_df1.append(harassment_tweets_df2)\n",
    "\n",
    "# Selecting only text and labeled class columns\n",
    "harassment_tweets_df['Label'] = 1\n",
    "harassment_tweets_df = harassment_tweets_df[['tweet', 'Label']]\n",
    "harassment_tweets_df.columns = ['Message', 'Label']\n",
    "\n",
    "# Drop duplicates\n",
    "harassment_tweets_df = harassment_tweets_df.drop_duplicates(subset = 'Message', keep = 'first')\n",
    "harassment_tweets_df.reset_index(inplace = True, drop = True) \n",
    "\n",
    "# Sampling\n",
    "harassment_tweets_df = harassment_tweets_df.sample(frac = 0.185 * 3, random_state = 50)\n",
    "harassment_tweets_df.reset_index(inplace = True, drop = True) \n",
    "\n",
    "\n",
    "harassment_tweets_df.shape"
   ]
  },
  {
   "cell_type": "code",
   "execution_count": null,
   "metadata": {},
   "outputs": [],
   "source": [
    "# Merging all dataframes\n",
    "df = harassment_tweets_df.append([sentiment_dev_df, toxic_df], ignore_index=True)\n",
    "\n",
    "# Drop duplicates\n",
    "df = df.drop_duplicates(subset = 'Message', keep = 'first')\n",
    "df.reset_index(inplace=True, drop=True)\n",
    "\n",
    "# Shuffling data\n",
    "df = df.sample(frac = 1)\n",
    "df.reset_index(inplace=True, drop=True) \n",
    "\n",
    "\n",
    "print('The size of final dataframe is :', df.shape)"
   ]
  },
  {
   "cell_type": "markdown",
   "metadata": {},
   "source": [
    "#### Data visualization"
   ]
  },
  {
   "cell_type": "code",
   "execution_count": 20,
   "metadata": {},
   "outputs": [
    {
     "data": {
      "text/plain": [
       "Text(0, 0.5, 'No. of observations')"
      ]
     },
     "execution_count": 20,
     "metadata": {},
     "output_type": "execute_result"
    },
    {
     "data": {
      "image/png": "[encoded data removed]",
      "text/plain": [
       "<Figure size 432x288 with 1 Axes>"
      ]
     },
     "metadata": {},
     "output_type": "display_data"
    }
   ],
   "source": [
    "# No. of observations belonging to each labelled class\n",
    "sns.set(style=\"white\")\n",
    "sns.set_context(\"notebook\", font_scale=0.9)\n",
    "depression_class_distribution = sns.countplot(x=\"Label\", data=df, palette=\"Blues_d\")\n",
    "plt.title('Data set distribution')\n",
    "plt.xlabel('Labelled classes')\n",
    "plt.ylabel('No. of observations')"
   ]
  },
  {
   "cell_type": "markdown",
   "metadata": {},
   "source": [
    "#### Data preprocessing"
   ]
  },
  {
   "cell_type": "code",
   "execution_count": null,
   "metadata": {},
   "outputs": [],
   "source": [
    "def clean_text(text):\n",
    "    \n",
    "    # Remove puncuation\n",
    "    text = text.translate(string.punctuation)\n",
    "    \n",
    "    # Convert words to lower case and split them\n",
    "    text = text.lower().split()\n",
    "    \n",
    "    # Remove stop words\n",
    "    stops = set(stopwords.words(\"english\"))\n",
    "    text = [w for w in text if not w in stops and len(w) >= 3]\n",
    "    \n",
    "    # Clean the text\n",
    "    text = \" \".join(text)    \n",
    "    text = re.sub(r\"[^A-Za-z0-9^,!.\\/'+-=]\", \" \", text)\n",
    "    text = re.sub(r\"what's\", \"what is \", text)\n",
    "    text = re.sub(r\"\\'s\", \" \", text)\n",
    "    text = re.sub(r\"\\'ve\", \" have \", text)\n",
    "    text = re.sub(r\"n't\", \" not \", text)\n",
    "    text = re.sub(r\"i'm\", \"i am \", text)\n",
    "    text = re.sub(r\"\\'re\", \" are \", text)\n",
    "    text = re.sub(r\"\\'d\", \" would \", text)\n",
    "    text = re.sub(r\"\\'ll\", \" will \", text)\n",
    "    text = re.sub(r\",\", \" \", text)\n",
    "    text = re.sub(r\"\\.\", \" \", text)\n",
    "    text = re.sub(r\"!\", \" ! \", text)\n",
    "    text = re.sub(r\"\\/\", \" \", text)\n",
    "    text = re.sub(r\"\\^\", \" ^ \", text)\n",
    "    text = re.sub(r\"\\+\", \" + \", text)\n",
    "    text = re.sub(r\"\\-\", \" - \", text)\n",
    "    text = re.sub(r\"\\=\", \" = \", text)\n",
    "    text = re.sub(r\"'\", \" \", text)\n",
    "    text = re.sub(r\"(\\d+)(k)\", r\"\\g<1>000\", text)\n",
    "    text = re.sub(r\":\", \" : \", text)\n",
    "    text = re.sub(r\" e g \", \" eg \", text)\n",
    "    text = re.sub(r\" b g \", \" bg \", text)\n",
    "    text = re.sub(r\" u s \", \" american \", text)\n",
    "    text = re.sub(r\"\\0s\", \"0\", text)\n",
    "    text = re.sub(r\" 9 11 \", \"911\", text)\n",
    "    text = re.sub(r\"e - mail\", \"email\", text)\n",
    "    text = re.sub(r\"j k\", \"jk\", text)\n",
    "    \n",
    "    # Stemming\n",
    "    text = re.sub(r\"\\s{2,}\", \" \", text)\n",
    "\n",
    "    text = text.split()\n",
    "    \n",
    "    # Convert similar words to a common root word\n",
    "    stemmer = nltk.PorterStemmer()\n",
    "    stemmed_words = [stemmer.stem(word) for word in text]\n",
    "    text = \" \".join(stemmed_words)\n",
    "    \n",
    "    return text"
   ]
  },
  {
   "cell_type": "code",
   "execution_count": null,
   "metadata": {},
   "outputs": [],
   "source": [
    "# Cleaning all text in dataframe\n",
    "df['Message'] = df['Message'].map(lambda x: clean_text(x))"
   ]
  },
  {
   "cell_type": "code",
   "execution_count": null,
   "metadata": {},
   "outputs": [],
   "source": [
    "MAX_NB_WORDS = 5000\n",
    "MAX_SEQUENCE_LENGTH = 200\n",
    "EMBEDDING_DIM = 32\n",
    "epochs = 8\n",
    "batch_size = 64"
   ]
  },
  {
   "cell_type": "code",
   "execution_count": null,
   "metadata": {},
   "outputs": [],
   "source": [
    "def create_input_features(df):\n",
    "    \n",
    "    # Creating tokens from sentences\n",
    "    tokenizer = Tokenizer(num_words = MAX_NB_WORDS)\n",
    "    tokenizer.fit_on_texts(df['Message'].values)\n",
    "    \n",
    "    # Create sequences of words in a sentence\n",
    "    sequences = tokenizer.texts_to_sequences(df['Message'].values)\n",
    "    \n",
    "    # Pad the sequences to create a common sentence size for all sentences\n",
    "    X = pad_sequences(sequences, maxlen = MAX_SEQUENCE_LENGTH)\n",
    "    \n",
    "    y = df['Label'].values\n",
    "    return (tokenizer, X, y)"
   ]
  },
  {
   "cell_type": "markdown",
   "metadata": {},
   "source": [
    "#### Splitting dataset"
   ]
  },
  {
   "cell_type": "code",
   "execution_count": 11,
   "metadata": {},
   "outputs": [],
   "source": [
    "(tokenizer, X, y) = create_input_features(df)\n",
    "X_train, X_test, y_train, y_test = train_test_split(X, y, test_size = 0.08, random_state = 202)\n",
    "X_train, X_val, y_train, y_val = train_test_split(X_train, y_train, test_size = 0.12, random_state = 202)"
   ]
  },
  {
   "cell_type": "markdown",
   "metadata": {},
   "source": [
    "#### Visualizing train and test data"
   ]
  },
  {
   "cell_type": "code",
   "execution_count": 12,
   "metadata": {},
   "outputs": [
    {
     "data": {
      "text/plain": [
       "Text(0, 0.5, 'No of observations')"
      ]
     },
     "execution_count": 12,
     "metadata": {},
     "output_type": "execute_result"
    },
    {
     "data": {
      "image/png": "[encoded data removed]",
      "text/plain": [
       "<Figure size 432x288 with 1 Axes>"
      ]
     },
     "metadata": {},
     "output_type": "display_data"
    }
   ],
   "source": [
    "# No. of observation belonging to each labelled class in train set.\n",
    "sns.set(style=\"white\")\n",
    "sns.set_context(\"notebook\", font_scale=0.9)\n",
    "depression_class_distribution = sns.countplot(x = y_train, palette=\"Blues_d\")\n",
    "plt.title('Train set distribution')\n",
    "plt.xlabel('Labelled classes')\n",
    "plt.ylabel('No of observations')"
   ]
  },
  {
   "cell_type": "code",
   "execution_count": 13,
   "metadata": {},
   "outputs": [
    {
     "data": {
      "text/plain": [
       "Text(0, 0.5, 'No of observations')"
      ]
     },
     "execution_count": 13,
     "metadata": {},
     "output_type": "execute_result"
    },
    {
     "data": {
      "image/png": "[encoded data removed]",
      "text/plain": [
       "<Figure size 432x288 with 1 Axes>"
      ]
     },
     "metadata": {},
     "output_type": "display_data"
    }
   ],
   "source": [
    "# No. of observation belonging to each labelled class in val set.\n",
    "sns.set(style=\"white\")\n",
    "sns.set_context(\"notebook\", font_scale = 0.9)\n",
    "depression_class_distribution = sns.countplot(x = y_val, palette = \"Blues_d\")\n",
    "plt.title('Validation set distribution')\n",
    "plt.xlabel('Labelled classes')\n",
    "plt.ylabel('No of observations')"
   ]
  },
  {
   "cell_type": "code",
   "execution_count": 14,
   "metadata": {},
   "outputs": [
    {
     "data": {
      "text/plain": [
       "Text(0, 0.5, 'No of observations')"
      ]
     },
     "execution_count": 14,
     "metadata": {},
     "output_type": "execute_result"
    },
    {
     "data": {
      "image/png": "[encoded data removed]",
      "text/plain": [
       "<Figure size 432x288 with 1 Axes>"
      ]
     },
     "metadata": {},
     "output_type": "display_data"
    }
   ],
   "source": [
    "# No. of observation belonging to each labelled class in test set.\n",
    "sns.set(style=\"white\")\n",
    "sns.set_context(\"notebook\", font_scale=0.9)\n",
    "depression_class_distribution = sns.countplot(x = y_test, palette=\"Blues_d\")\n",
    "plt.title('Test set distribution')\n",
    "plt.xlabel('Labelled classes')\n",
    "plt.ylabel('No of observations')"
   ]
  },
  {
   "cell_type": "markdown",
   "metadata": {},
   "source": [
    "#### Model building"
   ]
  },
  {
   "cell_type": "code",
   "execution_count": 15,
   "metadata": {},
   "outputs": [],
   "source": [
    "def create_model():\n",
    "    model = Sequential()\n",
    "    model.add(Embedding(MAX_NB_WORDS, EMBEDDING_DIM, input_length = MAX_SEQUENCE_LENGTH))\n",
    "    model.add(LSTM(2, return_sequences = False))\n",
    "    model.add(Dropout(0.3))\n",
    "    model.add(Dense(1, activation='sigmoid'))\n",
    "    model.compile(loss='binary_crossentropy', optimizer='adam', metrics=['accuracy'])\n",
    "    return model"
   ]
  },
  {
   "cell_type": "code",
   "execution_count": 16,
   "metadata": {
    "scrolled": true
   },
   "outputs": [
    {
     "name": "stderr",
     "output_type": "stream",
     "text": [
      "/home/yash/anaconda3/lib/python3.7/site-packages/tensorflow_core/python/framework/indexed_slices.py:433: UserWarning: Converting sparse IndexedSlices to a dense Tensor of unknown shape. This may consume a large amount of memory.\n",
      "  \"Converting sparse IndexedSlices to a dense Tensor of unknown shape. \"\n"
     ]
    },
    {
     "name": "stdout",
     "output_type": "stream",
     "text": [
      "Train on 197897 samples, validate on 26986 samples\n",
      "Epoch 1/8\n",
      "197897/197897 [==============================] - 243s 1ms/step - loss: 0.2275 - accuracy: 0.9214 - val_loss: 0.0962 - val_accuracy: 0.9714\n",
      "Epoch 2/8\n",
      "197897/197897 [==============================] - 238s 1ms/step - loss: 0.1499 - accuracy: 0.9331 - val_loss: 0.0825 - val_accuracy: 0.9728\n",
      "Epoch 3/8\n",
      "197897/197897 [==============================] - 229s 1ms/step - loss: 0.1345 - accuracy: 0.9358 - val_loss: 0.0773 - val_accuracy: 0.9732\n",
      "Epoch 4/8\n",
      "197897/197897 [==============================] - 232s 1ms/step - loss: 0.1281 - accuracy: 0.9352 - val_loss: 0.0791 - val_accuracy: 0.9728\n",
      "Epoch 5/8\n",
      "197897/197897 [==============================] - 240s 1ms/step - loss: 0.1258 - accuracy: 0.9350 - val_loss: 0.0776 - val_accuracy: 0.9732\n"
     ]
    }
   ],
   "source": [
    "model = create_model()\n",
    "model_history = model.fit(X_train, y_train,\n",
    "                          epochs = epochs,\n",
    "                          batch_size = batch_size,\n",
    "                          validation_data = (X_val, y_val),\n",
    "                          callbacks = [EarlyStopping(monitor = 'val_loss', patience = 2, min_delta = 0.002)])"
   ]
  },
  {
   "cell_type": "markdown",
   "metadata": {},
   "source": [
    "#### Model loss"
   ]
  },
  {
   "cell_type": "code",
   "execution_count": 18,
   "metadata": {},
   "outputs": [
    {
     "data": {
      "image/png": "[encoded data removed]",
      "text/plain": [
       "<Figure size 432x288 with 1 Axes>"
      ]
     },
     "metadata": {},
     "output_type": "display_data"
    }
   ],
   "source": [
    "plt.style.use('seaborn-white')\n",
    "plt.plot(model_history.history['loss'])\n",
    "plt.plot(model_history.history['val_loss'])\n",
    "plt.title('Model loss: Train vs Validation')\n",
    "plt.ylabel('Loss')\n",
    "plt.xlabel('Epoch')\n",
    "plt.yticks([0.1, 0.2, 0.3, 0.4, 0.5])\n",
    "plt.legend(['Train', 'Test'], loc='upper right')\n",
    "plt.show()"
   ]
  },
  {
   "cell_type": "markdown",
   "metadata": {},
   "source": [
    "#### Test set prediction"
   ]
  },
  {
   "cell_type": "code",
   "execution_count": 19,
   "metadata": {},
   "outputs": [
    {
     "data": {
      "text/plain": [
       "0.9730517488238903"
      ]
     },
     "execution_count": 19,
     "metadata": {},
     "output_type": "execute_result"
    }
   ],
   "source": [
    "y_pred = model.predict_classes(X_test)\n",
    "result = accuracy_score(y_test, y_pred)\n",
    "result"
   ]
  },
  {
   "cell_type": "markdown",
   "metadata": {},
   "source": [
    "#### User input prediction"
   ]
  },
  {
   "cell_type": "code",
   "execution_count": null,
   "metadata": {},
   "outputs": [],
   "source": [
    "test_df = pd.Series(['We used to go to tution but we left cause the teacher was accused of molesting girls'])\n",
    "test_df = test_df.map(lambda x: clean_text(x))\n",
    "sequences = tokenizer.texts_to_sequences(test_df.values)\n",
    "X = pad_sequences(sequences, maxlen = MAX_SEQUENCE_LENGTH)\n",
    "y = model.predict_classes(X)\n",
    "y"
   ]
  },
  {
   "cell_type": "markdown",
   "metadata": {},
   "source": [
    "#### Saving model"
   ]
  },
  {
   "cell_type": "code",
   "execution_count": 24,
   "metadata": {},
   "outputs": [],
   "source": [
    "import pickle"
   ]
  },
  {
   "cell_type": "code",
   "execution_count": 25,
   "metadata": {},
   "outputs": [],
   "source": [
    "file_pi = open('../harassment-tokenizer.pickle', 'wb') \n",
    "pickle.dump(tokenizer, file_pi)\n",
    "file_pi.close()"
   ]
  },
  {
   "cell_type": "code",
   "execution_count": 26,
   "metadata": {},
   "outputs": [],
   "source": [
    "file_p = open('../harassment-model.pickle', 'wb') \n",
    "pickle.dump(model, file_p)\n",
    "file_p.close()"
   ]
  },
  {
   "cell_type": "code",
   "execution_count": null,
   "metadata": {},
   "outputs": [],
   "source": []
  }
 ],
 "metadata": {
  "kernelspec": {
   "display_name": "Python 3",
   "language": "python",
   "name": "python3"
  },
  "language_info": {
   "codemirror_mode": {
    "name": "ipython",
    "version": 3
   },
   "file_extension": ".py",
   "mimetype": "text/x-python",
   "name": "python",
   "nbconvert_exporter": "python",
   "pygments_lexer": "ipython3",
   "version": "3.7.4"
  }
 },
 "nbformat": 4,
 "nbformat_minor": 2
}
